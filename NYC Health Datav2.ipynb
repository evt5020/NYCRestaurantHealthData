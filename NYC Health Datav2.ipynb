{
 "cells": [
  {
   "cell_type": "code",
   "execution_count": 32,
   "metadata": {
    "collapsed": false
   },
   "outputs": [],
   "source": [
    "import pandas as pd\n",
    "from sklearn.cluster import KMeans,DBSCAN\n",
    "from sklearn.preprocessing import StandardScaler, Normalizer\n",
    "import numpy as np\n",
    "from sklearn.metrics.cluster import silhouette_score #evaluates how good clustering is\n",
    "from sklearn.model_selection import train_test_split\n",
    "from sklearn import metrics\n",
    "import scipy.stats as stats\n",
    "\n",
    "from sklearn.tree import DecisionTreeRegressor\n",
    "from sklearn.ensemble import BaggingRegressor, RandomForestRegressor\n",
    "from sklearn.linear_model import LinearRegression\n",
    "from sklearn.model_selection import train_test_split\n",
    "from sklearn.metrics import mean_squared_error, accuracy_score\n",
    "from sklearn.externals.six import StringIO\n",
    "from sklearn.preprocessing import StandardScaler\n",
    "\n",
    "\n",
    "#visualizing results\n",
    "%matplotlib inline\n",
    "import matplotlib.pyplot as plt\n",
    "import seaborn as sns\n",
    "from IPython.display import Image\n",
    "from sklearn.tree import export_graphviz"
   ]
  },
  {
   "cell_type": "code",
   "execution_count": 33,
   "metadata": {
    "collapsed": false
   },
   "outputs": [],
   "source": [
    "#Load Data\n",
    "restdata = pd.read_csv('Restaurant_Inspections.csv')"
   ]
  },
  {
   "cell_type": "code",
   "execution_count": 34,
   "metadata": {
    "collapsed": false
   },
   "outputs": [],
   "source": [
    "restdatacleaned = restdata.copy()\n",
    "#Replace spaces with _ in column names\n",
    "restdatacleaned.columns = restdata.columns.map(lambda x: x.replace(\" \",\"_\"))"
   ]
  },
  {
   "cell_type": "code",
   "execution_count": 4,
   "metadata": {
    "collapsed": false
   },
   "outputs": [
    {
     "data": {
      "text/html": [
       "<div>\n",
       "<table border=\"1\" class=\"dataframe\">\n",
       "  <thead>\n",
       "    <tr style=\"text-align: right;\">\n",
       "      <th></th>\n",
       "      <th>CAMIS</th>\n",
       "      <th>DBA</th>\n",
       "      <th>BORO</th>\n",
       "      <th>BUILDING</th>\n",
       "      <th>STREET</th>\n",
       "      <th>ZIPCODE</th>\n",
       "      <th>PHONE</th>\n",
       "      <th>CUISINE_DESCRIPTION</th>\n",
       "      <th>INSPECTION_DATE</th>\n",
       "      <th>ACTION</th>\n",
       "      <th>VIOLATION_CODE</th>\n",
       "      <th>VIOLATION_DESCRIPTION</th>\n",
       "      <th>CRITICAL_FLAG</th>\n",
       "      <th>SCORE</th>\n",
       "      <th>GRADE</th>\n",
       "      <th>GRADE_DATE</th>\n",
       "      <th>RECORD_DATE</th>\n",
       "      <th>INSPECTION_TYPE</th>\n",
       "    </tr>\n",
       "  </thead>\n",
       "  <tbody>\n",
       "    <tr>\n",
       "      <th>0</th>\n",
       "      <td>40393378</td>\n",
       "      <td>E.J LUNCHEONETTE</td>\n",
       "      <td>MANHATTAN</td>\n",
       "      <td>1271</td>\n",
       "      <td>THIRD AVENUE</td>\n",
       "      <td>10021</td>\n",
       "      <td>2124720600</td>\n",
       "      <td>American</td>\n",
       "      <td>07/12/2016</td>\n",
       "      <td>Violations were cited in the following area(s).</td>\n",
       "      <td>02G</td>\n",
       "      <td>Cold food item held above 41Âº F (smoked fish ...</td>\n",
       "      <td>Critical</td>\n",
       "      <td>31.0</td>\n",
       "      <td>NaN</td>\n",
       "      <td>NaN</td>\n",
       "      <td>04/22/2017</td>\n",
       "      <td>Cycle Inspection / Initial Inspection</td>\n",
       "    </tr>\n",
       "    <tr>\n",
       "      <th>1</th>\n",
       "      <td>41030615</td>\n",
       "      <td>SERAFINA</td>\n",
       "      <td>MANHATTAN</td>\n",
       "      <td>210</td>\n",
       "      <td>WEST   55 STREET</td>\n",
       "      <td>10019</td>\n",
       "      <td>2123151700</td>\n",
       "      <td>Italian</td>\n",
       "      <td>03/18/2016</td>\n",
       "      <td>Violations were cited in the following area(s).</td>\n",
       "      <td>09C</td>\n",
       "      <td>Food contact surface not properly maintained.</td>\n",
       "      <td>Not Critical</td>\n",
       "      <td>4.0</td>\n",
       "      <td>A</td>\n",
       "      <td>03/18/2016</td>\n",
       "      <td>04/22/2017</td>\n",
       "      <td>Cycle Inspection / Initial Inspection</td>\n",
       "    </tr>\n",
       "    <tr>\n",
       "      <th>2</th>\n",
       "      <td>40871795</td>\n",
       "      <td>WONDEE SIAM II</td>\n",
       "      <td>MANHATTAN</td>\n",
       "      <td>813</td>\n",
       "      <td>9 AVENUE</td>\n",
       "      <td>10019</td>\n",
       "      <td>9172861726</td>\n",
       "      <td>Thai</td>\n",
       "      <td>12/23/2015</td>\n",
       "      <td>Violations were cited in the following area(s).</td>\n",
       "      <td>02B</td>\n",
       "      <td>Hot food item not held at or above 140Âº F.</td>\n",
       "      <td>Critical</td>\n",
       "      <td>29.0</td>\n",
       "      <td>NaN</td>\n",
       "      <td>NaN</td>\n",
       "      <td>04/22/2017</td>\n",
       "      <td>Cycle Inspection / Initial Inspection</td>\n",
       "    </tr>\n",
       "    <tr>\n",
       "      <th>3</th>\n",
       "      <td>40750612</td>\n",
       "      <td>STROKOS PIZZA DELI</td>\n",
       "      <td>MANHATTAN</td>\n",
       "      <td>888</td>\n",
       "      <td>10 AVENUE</td>\n",
       "      <td>10019</td>\n",
       "      <td>2125816262</td>\n",
       "      <td>American</td>\n",
       "      <td>09/20/2016</td>\n",
       "      <td>Violations were cited in the following area(s).</td>\n",
       "      <td>10B</td>\n",
       "      <td>Plumbing not properly installed or maintained;...</td>\n",
       "      <td>Not Critical</td>\n",
       "      <td>13.0</td>\n",
       "      <td>A</td>\n",
       "      <td>09/20/2016</td>\n",
       "      <td>04/22/2017</td>\n",
       "      <td>Cycle Inspection / Initial Inspection</td>\n",
       "    </tr>\n",
       "    <tr>\n",
       "      <th>4</th>\n",
       "      <td>50036944</td>\n",
       "      <td>AMBER</td>\n",
       "      <td>MANHATTAN</td>\n",
       "      <td>103</td>\n",
       "      <td>W 70TH ST</td>\n",
       "      <td>10023</td>\n",
       "      <td>2127998100</td>\n",
       "      <td>Asian</td>\n",
       "      <td>11/12/2015</td>\n",
       "      <td>Violations were cited in the following area(s).</td>\n",
       "      <td>09B</td>\n",
       "      <td>Thawing procedures improper.</td>\n",
       "      <td>Not Critical</td>\n",
       "      <td>9.0</td>\n",
       "      <td>A</td>\n",
       "      <td>11/12/2015</td>\n",
       "      <td>04/22/2017</td>\n",
       "      <td>Pre-permit (Operational) / Re-inspection</td>\n",
       "    </tr>\n",
       "  </tbody>\n",
       "</table>\n",
       "</div>"
      ],
      "text/plain": [
       "      CAMIS                 DBA       BORO BUILDING            STREET  \\\n",
       "0  40393378    E.J LUNCHEONETTE  MANHATTAN     1271      THIRD AVENUE   \n",
       "1  41030615            SERAFINA  MANHATTAN      210  WEST   55 STREET   \n",
       "2  40871795      WONDEE SIAM II  MANHATTAN      813          9 AVENUE   \n",
       "3  40750612  STROKOS PIZZA DELI  MANHATTAN      888         10 AVENUE   \n",
       "4  50036944               AMBER  MANHATTAN      103         W 70TH ST   \n",
       "\n",
       "   ZIPCODE       PHONE CUISINE_DESCRIPTION INSPECTION_DATE  \\\n",
       "0    10021  2124720600            American      07/12/2016   \n",
       "1    10019  2123151700             Italian      03/18/2016   \n",
       "2    10019  9172861726                Thai      12/23/2015   \n",
       "3    10019  2125816262            American      09/20/2016   \n",
       "4    10023  2127998100               Asian      11/12/2015   \n",
       "\n",
       "                                            ACTION VIOLATION_CODE  \\\n",
       "0  Violations were cited in the following area(s).            02G   \n",
       "1  Violations were cited in the following area(s).            09C   \n",
       "2  Violations were cited in the following area(s).            02B   \n",
       "3  Violations were cited in the following area(s).            10B   \n",
       "4  Violations were cited in the following area(s).            09B   \n",
       "\n",
       "                               VIOLATION_DESCRIPTION CRITICAL_FLAG  SCORE  \\\n",
       "0  Cold food item held above 41Âº F (smoked fish ...      Critical   31.0   \n",
       "1      Food contact surface not properly maintained.  Not Critical    4.0   \n",
       "2        Hot food item not held at or above 140Âº F.      Critical   29.0   \n",
       "3  Plumbing not properly installed or maintained;...  Not Critical   13.0   \n",
       "4                       Thawing procedures improper.  Not Critical    9.0   \n",
       "\n",
       "  GRADE  GRADE_DATE RECORD_DATE                           INSPECTION_TYPE  \n",
       "0   NaN         NaN  04/22/2017     Cycle Inspection / Initial Inspection  \n",
       "1     A  03/18/2016  04/22/2017     Cycle Inspection / Initial Inspection  \n",
       "2   NaN         NaN  04/22/2017     Cycle Inspection / Initial Inspection  \n",
       "3     A  09/20/2016  04/22/2017     Cycle Inspection / Initial Inspection  \n",
       "4     A  11/12/2015  04/22/2017  Pre-permit (Operational) / Re-inspection  "
      ]
     },
     "execution_count": 4,
     "metadata": {},
     "output_type": "execute_result"
    }
   ],
   "source": [
    "restdatacleaned.head()"
   ]
  },
  {
   "cell_type": "code",
   "execution_count": 35,
   "metadata": {
    "collapsed": false
   },
   "outputs": [],
   "source": [
    "#clean up column names by lowercasing them\n",
    "restdatacleaned.columns = restdatacleaned.columns.str.lower()\n"
   ]
  },
  {
   "cell_type": "code",
   "execution_count": 36,
   "metadata": {
    "collapsed": false
   },
   "outputs": [
    {
     "data": {
      "text/plain": [
       "camis                      int64\n",
       "dba                       object\n",
       "boro                      object\n",
       "building                  object\n",
       "street                    object\n",
       "zipcode                    int64\n",
       "phone                     object\n",
       "cuisine_description       object\n",
       "inspection_date           object\n",
       "action                    object\n",
       "violation_code            object\n",
       "violation_description     object\n",
       "critical_flag             object\n",
       "score                    float64\n",
       "grade                     object\n",
       "grade_date                object\n",
       "record_date               object\n",
       "inspection_type           object\n",
       "dtype: object"
      ]
     },
     "execution_count": 36,
     "metadata": {},
     "output_type": "execute_result"
    }
   ],
   "source": [
    "#Investigate Data types\n",
    "restdatacleaned.dtypes"
   ]
  },
  {
   "cell_type": "code",
   "execution_count": 39,
   "metadata": {
    "collapsed": false
   },
   "outputs": [],
   "source": [
    "#Drop columns that don't add to analysis\n",
    "restdatacleaned = restdatacleaned.drop(['camis','dba','inspection_date','building','street','phone','zipcode','action','violation_description','grade_date','record_date','inspection_type','grade'], axis=1)"
   ]
  },
  {
   "cell_type": "code",
   "execution_count": 40,
   "metadata": {
    "collapsed": false
   },
   "outputs": [],
   "source": [
    "#Drop all na values\n",
    "restdatacleaned = restdatacleaned.dropna()"
   ]
  },
  {
   "cell_type": "code",
   "execution_count": 41,
   "metadata": {
    "collapsed": true
   },
   "outputs": [],
   "source": [
    "#convert score column to integer\n",
    "restdatacleaned.score = restdatacleaned.score.astype(int)"
   ]
  },
  {
   "cell_type": "code",
   "execution_count": 42,
   "metadata": {
    "collapsed": false
   },
   "outputs": [
    {
     "data": {
      "text/plain": [
       "10    6803\n",
       "06    5488\n",
       "04    5450\n",
       "02    3793\n",
       "08    2930\n",
       "09     668\n",
       "05     326\n",
       "03      43\n",
       "22      21\n",
       "07       3\n",
       "16       1\n",
       "Name: violation_code, dtype: int64"
      ]
     },
     "execution_count": 42,
     "metadata": {},
     "output_type": "execute_result"
    }
   ],
   "source": [
    "#drop letter character from violation_code to convert to #\n",
    "restdatacleaned['violation_code'].replace(regex=True,inplace=True,to_replace=r'\\D',value=r'')\n",
    "\n",
    "#most common violation_code\n",
    "restdatacleaned.violation_code.value_counts(dropna=False)\n"
   ]
  },
  {
   "cell_type": "code",
   "execution_count": 43,
   "metadata": {
    "collapsed": false
   },
   "outputs": [
    {
     "data": {
      "text/html": [
       "<div>\n",
       "<table border=\"1\" class=\"dataframe\">\n",
       "  <thead>\n",
       "    <tr style=\"text-align: right;\">\n",
       "      <th></th>\n",
       "      <th>boro</th>\n",
       "      <th>cuisine_description</th>\n",
       "      <th>violation_code</th>\n",
       "      <th>score</th>\n",
       "      <th>Critical</th>\n",
       "      <th>Not Applicable</th>\n",
       "      <th>Not Critical</th>\n",
       "    </tr>\n",
       "  </thead>\n",
       "  <tbody>\n",
       "    <tr>\n",
       "      <th>0</th>\n",
       "      <td>MANHATTAN</td>\n",
       "      <td>American</td>\n",
       "      <td>02</td>\n",
       "      <td>31</td>\n",
       "      <td>1</td>\n",
       "      <td>0</td>\n",
       "      <td>0</td>\n",
       "    </tr>\n",
       "    <tr>\n",
       "      <th>1</th>\n",
       "      <td>MANHATTAN</td>\n",
       "      <td>Italian</td>\n",
       "      <td>09</td>\n",
       "      <td>4</td>\n",
       "      <td>0</td>\n",
       "      <td>0</td>\n",
       "      <td>1</td>\n",
       "    </tr>\n",
       "    <tr>\n",
       "      <th>2</th>\n",
       "      <td>MANHATTAN</td>\n",
       "      <td>Thai</td>\n",
       "      <td>02</td>\n",
       "      <td>29</td>\n",
       "      <td>1</td>\n",
       "      <td>0</td>\n",
       "      <td>0</td>\n",
       "    </tr>\n",
       "    <tr>\n",
       "      <th>3</th>\n",
       "      <td>MANHATTAN</td>\n",
       "      <td>American</td>\n",
       "      <td>10</td>\n",
       "      <td>13</td>\n",
       "      <td>0</td>\n",
       "      <td>0</td>\n",
       "      <td>1</td>\n",
       "    </tr>\n",
       "    <tr>\n",
       "      <th>4</th>\n",
       "      <td>MANHATTAN</td>\n",
       "      <td>Asian</td>\n",
       "      <td>09</td>\n",
       "      <td>9</td>\n",
       "      <td>0</td>\n",
       "      <td>0</td>\n",
       "      <td>1</td>\n",
       "    </tr>\n",
       "  </tbody>\n",
       "</table>\n",
       "</div>"
      ],
      "text/plain": [
       "        boro cuisine_description violation_code  score  Critical  \\\n",
       "0  MANHATTAN            American             02     31         1   \n",
       "1  MANHATTAN             Italian             09      4         0   \n",
       "2  MANHATTAN                Thai             02     29         1   \n",
       "3  MANHATTAN            American             10     13         0   \n",
       "4  MANHATTAN               Asian             09      9         0   \n",
       "\n",
       "   Not Applicable  Not Critical  \n",
       "0               0             0  \n",
       "1               0             1  \n",
       "2               0             0  \n",
       "3               0             1  \n",
       "4               0             1  "
      ]
     },
     "execution_count": 43,
     "metadata": {},
     "output_type": "execute_result"
    }
   ],
   "source": [
    "criticalflag_dummies = pd.get_dummies(restdatacleaned.critical_flag).astype(int)\n",
    "criticalflag_dummies.head()\n",
    "\n",
    "restdatacleaned = pd.concat([restdatacleaned,criticalflag_dummies],axis=1)\n",
    "restdatacleaned.drop(\"critical_flag\",inplace=True,axis=1)\n",
    "restdatacleaned.head()"
   ]
  },
  {
   "cell_type": "code",
   "execution_count": 54,
   "metadata": {
    "collapsed": false
   },
   "outputs": [
    {
     "data": {
      "text/plain": [
       "array(['Italian', 'Chinese', 'Japanese', 'Caf\\xc3\\x83\\xc2\\xa9/Coffee/Tea',\n",
       "       'Pizza', 'Mexican', 'French', 'Indian',\n",
       "       'Latin (Cuban, Dominican, Puerto Rican, South & Central American)',\n",
       "       'Thai', 'Delicatessen', 'Pizza/Italian', 'Asian', 'Bakery',\n",
       "       'Mediterranean', 'Irish', 'Jewish/Kosher'], dtype=object)"
      ]
     },
     "execution_count": 54,
     "metadata": {},
     "output_type": "execute_result"
    }
   ],
   "source": [
    "#There are 62 different cuisines. To simplify dataset, we are going to examine the cuisines that make up 80% of the dataset\n",
    "#Top 17\n",
    "restdatacuisinefilter = restdatacleaned.cuisine_description.value_counts(dropna=False)[1:18].index.valuesrestdatacuisinefilter"
   ]
  },
  {
   "cell_type": "code",
   "execution_count": null,
   "metadata": {
    "collapsed": true
   },
   "outputs": [],
   "source": [
    "#Remove reuslts with not applicable?\n"
   ]
  },
  {
   "cell_type": "code",
   "execution_count": 29,
   "metadata": {
    "collapsed": false
   },
   "outputs": [
    {
     "data": {
      "text/plain": [
       "boro                   object\n",
       "cuisine_description    object\n",
       "violation_code         object\n",
       "critical_flag          object\n",
       "score                   int64\n",
       "dtype: object"
      ]
     },
     "execution_count": 29,
     "metadata": {},
     "output_type": "execute_result"
    }
   ],
   "source": [
    "restdatacleaned.dtypes"
   ]
  },
  {
   "cell_type": "code",
   "execution_count": 44,
   "metadata": {
    "collapsed": false
   },
   "outputs": [
    {
     "data": {
      "text/html": [
       "<div>\n",
       "<table border=\"1\" class=\"dataframe\">\n",
       "  <thead>\n",
       "    <tr style=\"text-align: right;\">\n",
       "      <th></th>\n",
       "      <th>violation_code</th>\n",
       "      <th>critical_flag</th>\n",
       "      <th>score</th>\n",
       "      <th>boro</th>\n",
       "      <th>cuisine_description</th>\n",
       "    </tr>\n",
       "  </thead>\n",
       "  <tbody>\n",
       "    <tr>\n",
       "      <th>0</th>\n",
       "      <td>02</td>\n",
       "      <td>Critical</td>\n",
       "      <td>31</td>\n",
       "      <td>MANHATTAN</td>\n",
       "      <td>American</td>\n",
       "    </tr>\n",
       "    <tr>\n",
       "      <th>1</th>\n",
       "      <td>09</td>\n",
       "      <td>Not Critical</td>\n",
       "      <td>4</td>\n",
       "      <td>MANHATTAN</td>\n",
       "      <td>Italian</td>\n",
       "    </tr>\n",
       "    <tr>\n",
       "      <th>2</th>\n",
       "      <td>02</td>\n",
       "      <td>Critical</td>\n",
       "      <td>29</td>\n",
       "      <td>MANHATTAN</td>\n",
       "      <td>Thai</td>\n",
       "    </tr>\n",
       "    <tr>\n",
       "      <th>3</th>\n",
       "      <td>10</td>\n",
       "      <td>Not Critical</td>\n",
       "      <td>13</td>\n",
       "      <td>MANHATTAN</td>\n",
       "      <td>American</td>\n",
       "    </tr>\n",
       "    <tr>\n",
       "      <th>4</th>\n",
       "      <td>09</td>\n",
       "      <td>Not Critical</td>\n",
       "      <td>9</td>\n",
       "      <td>MANHATTAN</td>\n",
       "      <td>Asian</td>\n",
       "    </tr>\n",
       "  </tbody>\n",
       "</table>\n",
       "</div>"
      ],
      "text/plain": [
       "  violation_code critical_flag  score       boro cuisine_description\n",
       "0             02      Critical     31  MANHATTAN            American\n",
       "1             09  Not Critical      4  MANHATTAN             Italian\n",
       "2             02      Critical     29  MANHATTAN                Thai\n",
       "3             10  Not Critical     13  MANHATTAN            American\n",
       "4             09  Not Critical      9  MANHATTAN               Asian"
      ]
     },
     "execution_count": 44,
     "metadata": {},
     "output_type": "execute_result"
    }
   ],
   "source": [
    "Rearrange columns\n",
    "\n",
    "'''\n",
    "restdatacleaned_cols = restdatacleaned.columns.tolist()\n",
    "restdatacleaned_colsselect = restdatacleaned_cols[2:5]+restdatacleaned_cols[0:2]\n",
    "restdatacleaned_colsselect\n",
    "\n",
    "restdatacleaned = restdatacleaned[restdatacleaned_colsselect]\n",
    "restdatacleaned.head()\n",
    "'''"
   ]
  },
  {
   "cell_type": "code",
   "execution_count": 46,
   "metadata": {
    "collapsed": false
   },
   "outputs": [
    {
     "data": {
      "text/plain": [
       "<matplotlib.text.Text at 0x11774de10>"
      ]
     },
     "execution_count": 46,
     "metadata": {},
     "output_type": "execute_result"
    },
    {
     "data": {
      "image/png": "[encoded data removed]",
      "text/plain": [
       "<matplotlib.figure.Figure at 0x11758c490>"
      ]
     },
     "metadata": {},
     "output_type": "display_data"
    }
   ],
   "source": [
    "#Expand borrough\n",
    "\n",
    "restdatacleaned.score.hist(bins=20)\n",
    "sns.plt.title(\"Restaurant Scores\")\n",
    "sns.plt.ylabel(\"Number restaurants\")\n",
    "sns.plt.xlabel(\"Health Score\")\n",
    "\n"
   ]
  },
  {
   "cell_type": "code",
   "execution_count": 53,
   "metadata": {
    "collapsed": false
   },
   "outputs": [
    {
     "data": {
      "text/plain": [
       "<matplotlib.text.Text at 0x118a1e810>"
      ]
     },
     "execution_count": 53,
     "metadata": {},
     "output_type": "execute_result"
    },
    {
     "data": {
      "image/png": "[encoded data removed]",
      "text/plain": [
       "<matplotlib.figure.Figure at 0x1187e75d0>"
      ]
     },
     "metadata": {},
     "output_type": "display_data"
    }
   ],
   "source": [
    "restdatacleaned.hist(by=restdatacleaned[\"boro\"],bins=10,layout= (1,2),figsize=(12,6),sharex=True,sharey=True)\n",
    "sns.plt.ylabel(\"Number restaurants\")\n",
    "sns.plt.xlabel(\"Health Score\")"
   ]
  },
  {
   "cell_type": "code",
   "execution_count": 213,
   "metadata": {
    "collapsed": true
   },
   "outputs": [],
   "source": [
    "restdatacuisine = restdatacleaned.merge(cusineDF,left_index=True,right_index=True"
   ]
  },
  {
   "cell_type": "code",
   "execution_count": null,
   "metadata": {
    "collapsed": true
   },
   "outputs": [],
   "source": [
    "#Convert critical to flag\n",
    "#Convert boros to columns\n",
    "#Convert cuisines to columns\n",
    "#Use decsion trees or random forrest"
   ]
  }
 ],
 "metadata": {
  "kernelspec": {
   "display_name": "Python 2",
   "language": "python",
   "name": "python2"
  },
  "language_info": {
   "codemirror_mode": {
    "name": "ipython",
    "version": 2
   },
   "file_extension": ".py",
   "mimetype": "text/x-python",
   "name": "python",
   "nbconvert_exporter": "python",
   "pygments_lexer": "ipython2",
   "version": "2.7.13"
  }
 },
 "nbformat": 4,
 "nbformat_minor": 2
}
