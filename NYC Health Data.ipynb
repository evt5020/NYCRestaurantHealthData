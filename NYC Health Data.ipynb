{
 "cells": [
  {
   "cell_type": "code",
   "execution_count": 217,
   "metadata": {
    "collapsed": true
   },
   "outputs": [],
   "source": [
    "#can apply to texts, to images, can group user behaviors into coherent gorups\n",
    "#can use to identify abormal behaviors (outliers)\n",
    "#getting and working with data\n",
    "import pandas as pd\n",
    "from sklearn.cluster import KMeans,DBSCAN\n",
    "from sklearn.preprocessing import StandardScaler, Normalizer\n",
    "import numpy as np\n",
    "from sklearn.metrics.cluster import silhouette_score #evaluates how good clustering is\n",
    "\n",
    "#visualizing results\n",
    "%matplotlib inline\n",
    "import matplotlib.pyplot as plt\n",
    "import seaborn as sns"
   ]
  },
  {
   "cell_type": "code",
   "execution_count": 203,
   "metadata": {
    "collapsed": false
   },
   "outputs": [],
   "source": [
    "#Load Data\n",
    "\n",
    "restdata = pd.read_csv('Restaurant_Inspections.csv')"
   ]
  },
  {
   "cell_type": "code",
   "execution_count": 204,
   "metadata": {
    "collapsed": false
   },
   "outputs": [],
   "source": [
    "restdatacleaned = restdata.copy()\n",
    "#Replace spaces with _ in column names\n",
    "restdatacleaned.columns = restdata.columns.map(lambda x: x.replace(\" \",\"_\"))"
   ]
  },
  {
   "cell_type": "code",
   "execution_count": 205,
   "metadata": {
    "collapsed": false
   },
   "outputs": [
    {
     "data": {
      "text/html": [
       "<div>\n",
       "<table border=\"1\" class=\"dataframe\">\n",
       "  <thead>\n",
       "    <tr style=\"text-align: right;\">\n",
       "      <th></th>\n",
       "      <th>CAMIS</th>\n",
       "      <th>DBA</th>\n",
       "      <th>BORO</th>\n",
       "      <th>BUILDING</th>\n",
       "      <th>STREET</th>\n",
       "      <th>ZIPCODE</th>\n",
       "      <th>PHONE</th>\n",
       "      <th>CUISINE_DESCRIPTION</th>\n",
       "      <th>INSPECTION_DATE</th>\n",
       "      <th>ACTION</th>\n",
       "      <th>VIOLATION_CODE</th>\n",
       "      <th>VIOLATION_DESCRIPTION</th>\n",
       "      <th>CRITICAL_FLAG</th>\n",
       "      <th>SCORE</th>\n",
       "      <th>GRADE</th>\n",
       "      <th>GRADE_DATE</th>\n",
       "      <th>RECORD_DATE</th>\n",
       "      <th>INSPECTION_TYPE</th>\n",
       "    </tr>\n",
       "  </thead>\n",
       "  <tbody>\n",
       "    <tr>\n",
       "      <th>0</th>\n",
       "      <td>40393378</td>\n",
       "      <td>E.J LUNCHEONETTE</td>\n",
       "      <td>MANHATTAN</td>\n",
       "      <td>1271</td>\n",
       "      <td>THIRD AVENUE</td>\n",
       "      <td>10021</td>\n",
       "      <td>2124720600</td>\n",
       "      <td>American</td>\n",
       "      <td>07/12/2016</td>\n",
       "      <td>Violations were cited in the following area(s).</td>\n",
       "      <td>02G</td>\n",
       "      <td>Cold food item held above 41Âº F (smoked fish ...</td>\n",
       "      <td>Critical</td>\n",
       "      <td>31.0</td>\n",
       "      <td>NaN</td>\n",
       "      <td>NaN</td>\n",
       "      <td>04/22/2017</td>\n",
       "      <td>Cycle Inspection / Initial Inspection</td>\n",
       "    </tr>\n",
       "    <tr>\n",
       "      <th>1</th>\n",
       "      <td>41030615</td>\n",
       "      <td>SERAFINA</td>\n",
       "      <td>MANHATTAN</td>\n",
       "      <td>210</td>\n",
       "      <td>WEST   55 STREET</td>\n",
       "      <td>10019</td>\n",
       "      <td>2123151700</td>\n",
       "      <td>Italian</td>\n",
       "      <td>03/18/2016</td>\n",
       "      <td>Violations were cited in the following area(s).</td>\n",
       "      <td>09C</td>\n",
       "      <td>Food contact surface not properly maintained.</td>\n",
       "      <td>Not Critical</td>\n",
       "      <td>4.0</td>\n",
       "      <td>A</td>\n",
       "      <td>03/18/2016</td>\n",
       "      <td>04/22/2017</td>\n",
       "      <td>Cycle Inspection / Initial Inspection</td>\n",
       "    </tr>\n",
       "    <tr>\n",
       "      <th>2</th>\n",
       "      <td>40871795</td>\n",
       "      <td>WONDEE SIAM II</td>\n",
       "      <td>MANHATTAN</td>\n",
       "      <td>813</td>\n",
       "      <td>9 AVENUE</td>\n",
       "      <td>10019</td>\n",
       "      <td>9172861726</td>\n",
       "      <td>Thai</td>\n",
       "      <td>12/23/2015</td>\n",
       "      <td>Violations were cited in the following area(s).</td>\n",
       "      <td>02B</td>\n",
       "      <td>Hot food item not held at or above 140Âº F.</td>\n",
       "      <td>Critical</td>\n",
       "      <td>29.0</td>\n",
       "      <td>NaN</td>\n",
       "      <td>NaN</td>\n",
       "      <td>04/22/2017</td>\n",
       "      <td>Cycle Inspection / Initial Inspection</td>\n",
       "    </tr>\n",
       "    <tr>\n",
       "      <th>3</th>\n",
       "      <td>40750612</td>\n",
       "      <td>STROKOS PIZZA DELI</td>\n",
       "      <td>MANHATTAN</td>\n",
       "      <td>888</td>\n",
       "      <td>10 AVENUE</td>\n",
       "      <td>10019</td>\n",
       "      <td>2125816262</td>\n",
       "      <td>American</td>\n",
       "      <td>09/20/2016</td>\n",
       "      <td>Violations were cited in the following area(s).</td>\n",
       "      <td>10B</td>\n",
       "      <td>Plumbing not properly installed or maintained;...</td>\n",
       "      <td>Not Critical</td>\n",
       "      <td>13.0</td>\n",
       "      <td>A</td>\n",
       "      <td>09/20/2016</td>\n",
       "      <td>04/22/2017</td>\n",
       "      <td>Cycle Inspection / Initial Inspection</td>\n",
       "    </tr>\n",
       "    <tr>\n",
       "      <th>4</th>\n",
       "      <td>50036944</td>\n",
       "      <td>AMBER</td>\n",
       "      <td>MANHATTAN</td>\n",
       "      <td>103</td>\n",
       "      <td>W 70TH ST</td>\n",
       "      <td>10023</td>\n",
       "      <td>2127998100</td>\n",
       "      <td>Asian</td>\n",
       "      <td>11/12/2015</td>\n",
       "      <td>Violations were cited in the following area(s).</td>\n",
       "      <td>09B</td>\n",
       "      <td>Thawing procedures improper.</td>\n",
       "      <td>Not Critical</td>\n",
       "      <td>9.0</td>\n",
       "      <td>A</td>\n",
       "      <td>11/12/2015</td>\n",
       "      <td>04/22/2017</td>\n",
       "      <td>Pre-permit (Operational) / Re-inspection</td>\n",
       "    </tr>\n",
       "  </tbody>\n",
       "</table>\n",
       "</div>"
      ],
      "text/plain": [
       "      CAMIS                 DBA       BORO BUILDING            STREET  \\\n",
       "0  40393378    E.J LUNCHEONETTE  MANHATTAN     1271      THIRD AVENUE   \n",
       "1  41030615            SERAFINA  MANHATTAN      210  WEST   55 STREET   \n",
       "2  40871795      WONDEE SIAM II  MANHATTAN      813          9 AVENUE   \n",
       "3  40750612  STROKOS PIZZA DELI  MANHATTAN      888         10 AVENUE   \n",
       "4  50036944               AMBER  MANHATTAN      103         W 70TH ST   \n",
       "\n",
       "   ZIPCODE       PHONE CUISINE_DESCRIPTION INSPECTION_DATE  \\\n",
       "0    10021  2124720600            American      07/12/2016   \n",
       "1    10019  2123151700             Italian      03/18/2016   \n",
       "2    10019  9172861726                Thai      12/23/2015   \n",
       "3    10019  2125816262            American      09/20/2016   \n",
       "4    10023  2127998100               Asian      11/12/2015   \n",
       "\n",
       "                                            ACTION VIOLATION_CODE  \\\n",
       "0  Violations were cited in the following area(s).            02G   \n",
       "1  Violations were cited in the following area(s).            09C   \n",
       "2  Violations were cited in the following area(s).            02B   \n",
       "3  Violations were cited in the following area(s).            10B   \n",
       "4  Violations were cited in the following area(s).            09B   \n",
       "\n",
       "                               VIOLATION_DESCRIPTION CRITICAL_FLAG  SCORE  \\\n",
       "0  Cold food item held above 41Âº F (smoked fish ...      Critical   31.0   \n",
       "1      Food contact surface not properly maintained.  Not Critical    4.0   \n",
       "2        Hot food item not held at or above 140Âº F.      Critical   29.0   \n",
       "3  Plumbing not properly installed or maintained;...  Not Critical   13.0   \n",
       "4                       Thawing procedures improper.  Not Critical    9.0   \n",
       "\n",
       "  GRADE  GRADE_DATE RECORD_DATE                           INSPECTION_TYPE  \n",
       "0   NaN         NaN  04/22/2017     Cycle Inspection / Initial Inspection  \n",
       "1     A  03/18/2016  04/22/2017     Cycle Inspection / Initial Inspection  \n",
       "2   NaN         NaN  04/22/2017     Cycle Inspection / Initial Inspection  \n",
       "3     A  09/20/2016  04/22/2017     Cycle Inspection / Initial Inspection  \n",
       "4     A  11/12/2015  04/22/2017  Pre-permit (Operational) / Re-inspection  "
      ]
     },
     "execution_count": 205,
     "metadata": {},
     "output_type": "execute_result"
    }
   ],
   "source": [
    "restdatacleaned.head()"
   ]
  },
  {
   "cell_type": "code",
   "execution_count": 206,
   "metadata": {
    "collapsed": false
   },
   "outputs": [],
   "source": [
    "restdatacleaned.columns = restdatacleaned.columns.str.lower() #clean up column names by lowercasing them"
   ]
  },
  {
   "cell_type": "code",
   "execution_count": 207,
   "metadata": {
    "collapsed": false
   },
   "outputs": [],
   "source": [
    "restdatacleaned.inspection_date.date = pd.to_datetime(restdatacleaned.inspection_date) #convert date"
   ]
  },
  {
   "cell_type": "code",
   "execution_count": 208,
   "metadata": {
    "collapsed": true
   },
   "outputs": [],
   "source": [
    "restdatacleaned.record_date.date = pd.to_datetime(restdatacleaned.record_date) #convert date"
   ]
  },
  {
   "cell_type": "code",
   "execution_count": 58,
   "metadata": {
    "collapsed": true
   },
   "outputs": [],
   "source": [
    "#restdatacleaned_columns=restdatacleaned[:2]\n",
    "\n",
    "#Drop columns that don't add to analysis\n",
    "#restdatacleaned = restdatacleaned.drop(['building','street','phone','record_date'], axis=1)"
   ]
  },
  {
   "cell_type": "code",
   "execution_count": 209,
   "metadata": {
    "collapsed": false
   },
   "outputs": [
    {
     "data": {
      "text/plain": [
       "['camis',\n",
       " 'dba',\n",
       " 'boro',\n",
       " 'cuisine_description',\n",
       " 'inspection_date',\n",
       " 'violation_code',\n",
       " 'score',\n",
       " 'grade',\n",
       " 'grade_date',\n",
       " 'inspection_type']"
      ]
     },
     "execution_count": 209,
     "metadata": {},
     "output_type": "execute_result"
    }
   ],
   "source": [
    "restdatacleaned_cols = restdatacleaned.columns.tolist()\n",
    "restdatacleaned_colsselect = restdatacleaned_cols[:3]+restdatacleaned_cols[7:9]+restdatacleaned_cols[10:11]+restdatacleaned_cols[13:16]+restdatacleaned_cols[17:18]\n",
    "restdatacleaned_colsselect"
   ]
  },
  {
   "cell_type": "code",
   "execution_count": 210,
   "metadata": {
    "collapsed": false,
    "scrolled": true
   },
   "outputs": [],
   "source": [
    "restdatacleaned_cols = restdatacleaned.columns.tolist()\n",
    "restdatacleaned_colsselect = restdatacleaned_cols[:3]+restdatacleaned_cols[7:9]+restdatacleaned_cols[10:11]+restdatacleaned_cols[13:16]+restdatacleaned_cols[17:18]\n",
    "restdatacleaned=restdatacleaned[restdatacleaned_colsselect]"
   ]
  },
  {
   "cell_type": "code",
   "execution_count": 213,
   "metadata": {
    "collapsed": true
   },
   "outputs": [],
   "source": [
    "restdatacuisine = restdatacleaned.merge(cusineDF,left_index=True,right_index=True"
   ]
  },
  {
   "cell_type": "code",
   "execution_count": 241,
   "metadata": {
    "collapsed": false
   },
   "outputs": [
    {
     "data": {
      "text/plain": [
       "62"
      ]
     },
     "execution_count": 241,
     "metadata": {},
     "output_type": "execute_result"
    }
   ],
   "source": [
    "cuisinegroup = restdatacleaned.groupby(\"cuisine_description\")\n",
    "cuisinegroup.size()\n",
    "# of unique cusines\n",
    "restdatacleaned.cuisine_description.nunique()\n",
    "\n",
    "#filter cuisines with less than 200 restaurants in rating"
   ]
  },
  {
   "cell_type": "code",
   "execution_count": 229,
   "metadata": {
    "collapsed": false
   },
   "outputs": [],
   "source": [
    "restdatacuisine[\"score_bins\"] = pd.cut(restdatacuisine[\"score\"],12) "
   ]
  },
  {
   "cell_type": "code",
   "execution_count": 242,
   "metadata": {
    "collapsed": false
   },
   "outputs": [
    {
     "data": {
      "text/plain": [
       "CAMIS                      int64\n",
       "DBA                       object\n",
       "BORO                      object\n",
       "BUILDING                  object\n",
       "STREET                    object\n",
       "ZIPCODE                    int64\n",
       "PHONE                     object\n",
       "CUISINE DESCRIPTION       object\n",
       "INSPECTION DATE           object\n",
       "ACTION                    object\n",
       "VIOLATION CODE            object\n",
       "VIOLATION DESCRIPTION     object\n",
       "CRITICAL FLAG             object\n",
       "SCORE                    float64\n",
       "GRADE                     object\n",
       "GRADE DATE                object\n",
       "RECORD DATE               object\n",
       "INSPECTION TYPE           object\n",
       "dtype: object"
      ]
     },
     "execution_count": 242,
     "metadata": {},
     "output_type": "execute_result"
    }
   ],
   "source": [
    "restdata.dtypes"
   ]
  },
  {
   "cell_type": "code",
   "execution_count": 244,
   "metadata": {
    "collapsed": false
   },
   "outputs": [
    {
     "data": {
      "text/plain": [
       "camis                    int64\n",
       "dba                     object\n",
       "boro                    object\n",
       "cuisine_description     object\n",
       "inspection_date         object\n",
       "violation_code          object\n",
       "score                  float64\n",
       "grade                   object\n",
       "grade_date              object\n",
       "inspection_type         object\n",
       "dtype: object"
      ]
     },
     "execution_count": 244,
     "metadata": {},
     "output_type": "execute_result"
    }
   ],
   "source": [
    "restdatacleaned.dtypes"
   ]
  },
  {
   "cell_type": "code",
   "execution_count": null,
   "metadata": {
    "collapsed": true
   },
   "outputs": [],
   "source": []
  }
 ],
 "metadata": {
  "kernelspec": {
   "display_name": "Python 2",
   "language": "python",
   "name": "python2"
  },
  "language_info": {
   "codemirror_mode": {
    "name": "ipython",
    "version": 2
   },
   "file_extension": ".py",
   "mimetype": "text/x-python",
   "name": "python",
   "nbconvert_exporter": "python",
   "pygments_lexer": "ipython2",
   "version": "2.7.13"
  }
 },
 "nbformat": 4,
 "nbformat_minor": 2
}
